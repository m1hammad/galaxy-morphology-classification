{
 "cells": [
  {
   "cell_type": "code",
   "execution_count": null,
   "metadata": {},
   "outputs": [],
   "source": [
    "import pandas as pd\n",
    "from sql_export import sql_connection, sql_connection_close\n",
    "from azure.storage.blob import BlobServiceClient\n",
    "import os\n",
    "from dotenv import load_dotenv\n",
    "from concurrent import futures\n",
    "\n",
    "\n",
    "load_dotenv()\n",
    "\n"
   ]
  },
  {
   "cell_type": "markdown",
   "metadata": {},
   "source": [
    "## Data Retrieval from Azure SQL"
   ]
  },
  {
   "cell_type": "code",
   "execution_count": null,
   "metadata": {},
   "outputs": [],
   "source": [
    "# Set Apple Silicon paths (for M1/M2 Macs)\n",
    "# For some reason we need to manually set paths for the odbcinst file so jupyter file can connect to Azure SQL\n",
    "# Did not need to do this for python code\n",
    "\n",
    "os.environ['ODBCSYSINI'] = os.getenv('ETC')\n",
    "os.environ['ODBCINSTINI'] = os.getenv(\"INI\")\n",
    "os.environ['DYLD_LIBRARY_PATH'] = os.getenv(\"LIB\")\n"
   ]
  },
  {
   "cell_type": "code",
   "execution_count": null,
   "metadata": {},
   "outputs": [],
   "source": [
    "!odbcinst -q -d -n \"ODBC Driver 18 for SQL Server\""
   ]
  },
  {
   "cell_type": "code",
   "execution_count": null,
   "metadata": {},
   "outputs": [],
   "source": [
    "sql_query = \"SELECT * FROM dbo.galaxy_target_values\"\n",
    "conn, cursor = sql_connection()\n",
    "target_df = pd.read_sql(sql_query, conn)\n",
    "target_df\n",
    "sql_connection_close()"
   ]
  },
  {
   "cell_type": "code",
   "execution_count": null,
   "metadata": {},
   "outputs": [],
   "source": [
    "target_df"
   ]
  },
  {
   "cell_type": "markdown",
   "metadata": {},
   "source": [
    "## Data Retrieval From Azure Blob Storage"
   ]
  },
  {
   "cell_type": "code",
   "execution_count": null,
   "metadata": {},
   "outputs": [],
   "source": [
    "connection_string = os.getenv(\"BLOB_CONNECTION_STRING\")\n",
    "\n",
    "\n",
    "if not connection_string:\n",
    "    raise Exception(\"BLOB_CONNECTION_STRING is not defined in your environment variables.\")\n",
    "\n",
    "# connect to Azure blob service\n",
    "blob_service_client = BlobServiceClient.from_connection_string(connection_string)\n",
    "\n",
    "containers = blob_service_client.list_containers(include_metadata=False)\n",
    "\n",
    "blob_container = []\n",
    "for container in containers:\n",
    "    blob_container.append(blob_service_client.get_container_client(container=container['name']))\n",
    "\n",
    "blob_container[0].container_name\n",
    "\n",
    "if 'test' in blob_container[0].container_name:\n",
    "    for test_blob in blob_container[0].list_blobs():\n",
    "        print(test_blob.name)"
   ]
  },
  {
   "cell_type": "code",
   "execution_count": null,
   "metadata": {},
   "outputs": [],
   "source": []
  }
 ],
 "metadata": {
  "kernelspec": {
   "display_name": "base",
   "language": "python",
   "name": "python3"
  },
  "language_info": {
   "codemirror_mode": {
    "name": "ipython",
    "version": 3
   },
   "file_extension": ".py",
   "mimetype": "text/x-python",
   "name": "python",
   "nbconvert_exporter": "python",
   "pygments_lexer": "ipython3",
   "version": "3.11.8"
  }
 },
 "nbformat": 4,
 "nbformat_minor": 2
}
