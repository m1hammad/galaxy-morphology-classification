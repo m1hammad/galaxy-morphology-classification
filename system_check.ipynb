{
 "cells": [
  {
   "cell_type": "code",
   "execution_count": 3,
   "metadata": {},
   "outputs": [
    {
     "name": "stdout",
     "output_type": "stream",
     "text": [
      "=== CPU Information ===\n",
      "System: Darwin\n",
      "Node Name: Manahils-MacBook-Pro.local\n",
      "Release: 24.3.0\n",
      "Version: Darwin Kernel Version 24.3.0: Thu Jan  2 20:24:24 PST 2025; root:xnu-11215.81.4~3/RELEASE_ARM64_T6030\n",
      "Machine: arm64\n",
      "Processor: arm\n",
      "Logical CPU Cores: 11\n",
      "\n",
      "=== GPU Information ===\n",
      "Apple GPU (MPS) is available!\n"
     ]
    }
   ],
   "source": [
    "import os\n",
    "import platform\n",
    "import torch\n",
    "\n",
    "# CPU Information using standard libraries\n",
    "print(\"=== CPU Information ===\")\n",
    "uname = platform.uname()\n",
    "print(f\"System: {uname.system}\")\n",
    "print(f\"Node Name: {uname.node}\")\n",
    "print(f\"Release: {uname.release}\")\n",
    "print(f\"Version: {uname.version}\")\n",
    "print(f\"Machine: {uname.machine}\")\n",
    "print(f\"Processor: {uname.processor}\")\n",
    "print(f\"Logical CPU Cores: {os.cpu_count()}\")\n",
    "\n",
    "# GPU Information\n",
    "print(\"\\n=== GPU Information ===\")\n",
    "if torch.cuda.is_available():\n",
    "    # For CUDA-capable GPUs (typically on Linux/Windows)\n",
    "    gpu_count = torch.cuda.device_count()\n",
    "    print(f\"Number of CUDA GPUs available: {gpu_count}\")\n",
    "    for i in range(gpu_count):\n",
    "        print(f\"CUDA GPU {i}: {torch.cuda.get_device_name(i)}\")\n",
    "elif hasattr(torch.backends, \"mps\") and torch.backends.mps.is_available():\n",
    "    # For Apple Silicon using the MPS backend (e.g. M1/M2/M3 Macs)\n",
    "    print(\"Apple GPU (MPS) is available!\")\n",
    "else:\n",
    "    print(\"No GPU available.\")"
   ]
  }
 ],
 "metadata": {
  "kernelspec": {
   "display_name": "base",
   "language": "python",
   "name": "python3"
  },
  "language_info": {
   "codemirror_mode": {
    "name": "ipython",
    "version": 3
   },
   "file_extension": ".py",
   "mimetype": "text/x-python",
   "name": "python",
   "nbconvert_exporter": "python",
   "pygments_lexer": "ipython3",
   "version": "3.11.8"
  }
 },
 "nbformat": 4,
 "nbformat_minor": 2
}
